{
  "nbformat": 4,
  "nbformat_minor": 0,
  "metadata": {
    "colab": {
      "provenance": [],
      "gpuType": "T4",
      "authorship_tag": "ABX9TyPZ7ofbZyzXlG1bo9XwwDNS",
      "include_colab_link": true
    },
    "kernelspec": {
      "name": "python3",
      "display_name": "Python 3"
    },
    "language_info": {
      "name": "python"
    },
    "accelerator": "GPU"
  },
  "cells": [
    {
      "cell_type": "markdown",
      "metadata": {
        "id": "view-in-github",
        "colab_type": "text"
      },
      "source": [
        "<a href=\"https://colab.research.google.com/github/newjay608/ABTests/blob/main/00_introduction_to_pytorch.ipynb\" target=\"_parent\"><img src=\"https://colab.research.google.com/assets/colab-badge.svg\" alt=\"Open In Colab\"/></a>"
      ]
    },
    {
      "cell_type": "markdown",
      "source": [
        "# Introduction to PyTorch"
      ],
      "metadata": {
        "id": "r2iTaqG-mtdl"
      }
    },
    {
      "cell_type": "code",
      "source": [
        "import sys\n",
        "import platform\n",
        "import torch\n",
        "import numpy as np\n",
        "import pandas as pd\n",
        "import sklearn as sk"
      ],
      "metadata": {
        "id": "otb_A8mlnVSH"
      },
      "execution_count": 3,
      "outputs": []
    },
    {
      "cell_type": "code",
      "source": [
        "has_gpu = torch.cuda.is_available()\n",
        "has_mps = torch.backends.mps.is_built()\n",
        "\n",
        "device = \"mps\" if torch.backends.mps.is_available() \\\n",
        "  else \"gpu\" if torch.cuda.is_available() else \"cpu\"\n",
        "\n",
        "print(f\"Python Platform: {platform.platform()}\")\n",
        "print(f\"PyTorch Version: {torch.__version__}\")\n",
        "print()\n",
        "print(f\"Python Version {sys.version_info}\")\n",
        "print(f\"Pandas Version {pd.__version__}\")\n",
        "print(f\"Scikit Version {sk.__version__}\")\n",
        "print(f\"GPU is available \"if has_gpu else \"GPU NOT AVIALABLE\")\n",
        "print(f\"MPS (Apple Metal) is available \"if has_gpu else \"APLLE METAL NOT AVIALABLE\")\n",
        "print(f\"Target Device {device}\")"
      ],
      "metadata": {
        "colab": {
          "base_uri": "https://localhost:8080/"
        },
        "id": "i-sVg6WTnZaG",
        "outputId": "64f45767-914f-4408-edd1-655b610ef0fd"
      },
      "execution_count": 4,
      "outputs": [
        {
          "output_type": "stream",
          "name": "stdout",
          "text": [
            "Python Platform: Linux-6.1.58+-x86_64-with-glibc2.35\n",
            "PyTorch Version: 2.1.0+cu121\n",
            "\n",
            "Python Version sys.version_info(major=3, minor=10, micro=12, releaselevel='final', serial=0)\n",
            "Pandas Version 1.5.3\n",
            "Scikit Version 1.2.2\n",
            "GPU is available \n",
            "MPS (Apple Metal) is available \n",
            "Target Device gpu\n"
          ]
        }
      ]
    },
    {
      "cell_type": "markdown",
      "source": [
        "## Creating Tensors\n",
        "\n",
        "Tensors are immutable, algebraic object that decribes a multilinear realitionship between sets of algebraic objrects in a vector space\n",
        "\n",
        "Its a multi-dimensional array of numbers, but they are not just numbers, but they also have geometry and the object is invariant undera change of coordiantes and has compoenents that change in special, predictable way under a change of cooridnates. Change of cooridnates here means you can apply any cooridnate system the lentgh (maginidute) is invariate. The components change with each coordiante system in which the vector is placed\n",
        "\n",
        "A simplistic example of tensor is a scalar, scalars as just a number"
      ],
      "metadata": {
        "id": "6MXRUBMEpzD-"
      }
    },
    {
      "cell_type": "code",
      "source": [
        "scalar = torch.tensor(7)\n",
        "print(f\"scalar {scalar}\")\n",
        "print(f\"scalar item value {scalar.item()}\")\n",
        "print(f\"scalar ndim {scalar.ndim}\")\n",
        "print(f\"scalar shape {scalar.shape}\")\n"
      ],
      "metadata": {
        "colab": {
          "base_uri": "https://localhost:8080/"
        },
        "id": "A3HZC6JHqCg3",
        "outputId": "6bd3dd05-9613-4d51-fead-548cd266ce3c"
      },
      "execution_count": 5,
      "outputs": [
        {
          "output_type": "stream",
          "name": "stdout",
          "text": [
            "scalar 7\n",
            "scalar item value 7\n",
            "scalar ndim 0\n",
            "scalar shape torch.Size([])\n"
          ]
        }
      ]
    },
    {
      "cell_type": "code",
      "source": [
        "vector = torch.tensor([7,7])\n",
        "print(f\"vector {vector}\")\n",
        "print(f\"vector ndim {vector.ndim}\")\n",
        "print(f\"vector shape {vector.shape}\")"
      ],
      "metadata": {
        "colab": {
          "base_uri": "https://localhost:8080/"
        },
        "id": "pziqDMKnrLM3",
        "outputId": "d1b3f686-0a36-4a56-8f70-f7075c204f5d"
      },
      "execution_count": 6,
      "outputs": [
        {
          "output_type": "stream",
          "name": "stdout",
          "text": [
            "vector tensor([7, 7])\n",
            "vector ndim 1\n",
            "vector shape torch.Size([2])\n"
          ]
        }
      ]
    },
    {
      "cell_type": "code",
      "source": [
        "MATRIX = torch.tensor([[7,8],\n",
        "                       [9,10],\n",
        "                       [11,3]])\n",
        "print(f\"vector {MATRIX}\")\n",
        "print(f\"vector ndim {MATRIX.ndim}\")\n",
        "print(f\"vector shape {MATRIX.shape}\")\n",
        "print(f\"first element {MATRIX[0]}\")\n",
        "print(f\"second element {MATRIX[1]}\")"
      ],
      "metadata": {
        "colab": {
          "base_uri": "https://localhost:8080/"
        },
        "id": "yk4BC8Kct8a3",
        "outputId": "c58dce21-127c-4f7a-e8a6-7e0491d44d1e"
      },
      "execution_count": 7,
      "outputs": [
        {
          "output_type": "stream",
          "name": "stdout",
          "text": [
            "vector tensor([[ 7,  8],\n",
            "        [ 9, 10],\n",
            "        [11,  3]])\n",
            "vector ndim 2\n",
            "vector shape torch.Size([3, 2])\n",
            "first element tensor([7, 8])\n",
            "second element tensor([ 9, 10])\n"
          ]
        }
      ]
    },
    {
      "cell_type": "code",
      "source": [
        "TENSOR = torch.tensor([[[1,2,3],\n",
        "                      [4,5,6],\n",
        "                      [7,8,9]]])\n",
        "print(f\"vector {TENSOR}\")\n",
        "print(f\"vector ndim {TENSOR.ndim}\")\n",
        "print(f\"vector shape {TENSOR.shape}\")"
      ],
      "metadata": {
        "colab": {
          "base_uri": "https://localhost:8080/"
        },
        "id": "Ln19ZTQZuffL",
        "outputId": "f9115f5d-3d08-4f65-cdc8-a02c8f0806b8"
      },
      "execution_count": 8,
      "outputs": [
        {
          "output_type": "stream",
          "name": "stdout",
          "text": [
            "vector tensor([[[1, 2, 3],\n",
            "         [4, 5, 6],\n",
            "         [7, 8, 9]]])\n",
            "vector ndim 3\n",
            "vector shape torch.Size([1, 3, 3])\n"
          ]
        }
      ]
    },
    {
      "cell_type": "markdown",
      "source": [
        "Tensors can represent almost anything. The dimensions go outer to inner.\n",
        "  \n",
        "The above tensor can represent a sales number for three products in three stores\n",
        "or.\n",
        "first row can be days of the week and second and third rows can be stake and almond sales\n",
        "  \n",
        "**That means there's 1 dimension of 3 by 3.**\n",
        "\n",
        "Name: Scalar\n",
        "What is it?: a single number\n",
        "num of dimensions 0\n",
        "Lower or upper : Lower(a)\n",
        "  \n",
        "\n",
        "Name: Vector\n",
        "What is it?: a a number with directions\n",
        "num of dimensions 0\n",
        "Lower or upper: Lower (y)\n",
        "\n",
        "\n",
        "Name: Matrix\n",
        "What is it?: a 2-demensional array of numbers\n",
        "num of dimensions 2\n",
        "Lower or upper: Upper (Q)\n",
        "\n",
        "\n",
        "Name: Tensor\n",
        "What is it? an n-dimensional array of numbers\n",
        "number of dimensions: can be any number - a 0 dimension is a scalar; vector is a 1-dimensional tensor\n",
        "Lower or upper: Upper(X)\n",
        "\n",
        "\n"
      ],
      "metadata": {
        "id": "eUGzzbY9uzQg"
      }
    },
    {
      "cell_type": "markdown",
      "source": [
        "### Random tensors\n",
        "\n",
        "Why Random Tensors are important?\n",
        "Random tensors (numbers) is what DNNs learn and as they learn the models adjust these random tensors to better represent the data"
      ],
      "metadata": {
        "id": "oWLAp-IryAar"
      }
    },
    {
      "cell_type": "code",
      "source": [
        "random_tensor = torch.rand(3,4)\n",
        "print(random_tensor)\n",
        "print(f\"size {random_tensor.size()}\")\n",
        "print(f\"ndim {random_tensor.ndim}\")"
      ],
      "metadata": {
        "colab": {
          "base_uri": "https://localhost:8080/"
        },
        "id": "gWSJ2cK2FmKs",
        "outputId": "9bdcf7eb-0ad4-4fcf-9dba-ec4878a3cfa5"
      },
      "execution_count": 9,
      "outputs": [
        {
          "output_type": "stream",
          "name": "stdout",
          "text": [
            "tensor([[0.8034, 0.9380, 0.1792, 0.4209],\n",
            "        [0.1858, 0.2581, 0.4899, 0.0487],\n",
            "        [0.3473, 0.4160, 0.6171, 0.7735]])\n",
            "size torch.Size([3, 4])\n",
            "ndim 2\n"
          ]
        }
      ]
    },
    {
      "cell_type": "code",
      "source": [
        "random_tensor = torch.rand(2, 5, 4)\n",
        "print(random_tensor)\n",
        "print(f\"size {random_tensor.shape}\")\n",
        "print(f\"ndim {random_tensor.ndim}\")"
      ],
      "metadata": {
        "colab": {
          "base_uri": "https://localhost:8080/"
        },
        "id": "aNAS35_SF1Pu",
        "outputId": "104ae161-2a57-497f-9a63-3f2ba7329d8f"
      },
      "execution_count": 10,
      "outputs": [
        {
          "output_type": "stream",
          "name": "stdout",
          "text": [
            "tensor([[[0.3154, 0.3338, 0.8002, 0.2182],\n",
            "         [0.6569, 0.2051, 0.6118, 0.3696],\n",
            "         [0.6158, 0.7826, 0.5364, 0.4362],\n",
            "         [0.6281, 0.1874, 0.1008, 0.1669],\n",
            "         [0.1636, 0.3230, 0.1923, 0.6862]],\n",
            "\n",
            "        [[0.3936, 0.7628, 0.4962, 0.7645],\n",
            "         [0.8831, 0.2241, 0.2219, 0.7120],\n",
            "         [0.6916, 0.8895, 0.2096, 0.0951],\n",
            "         [0.5491, 0.7222, 0.7052, 0.8153],\n",
            "         [0.2078, 0.6003, 0.6447, 0.6942]]])\n",
            "size torch.Size([2, 5, 4])\n",
            "ndim 3\n"
          ]
        }
      ]
    },
    {
      "cell_type": "code",
      "source": [
        "# create a random tesnor with similar shape to an image tensor, pytorch does the\n",
        "# work behind the scene to generate a tensor from an image\n",
        "random_image_size_tensor = torch.rand(size=(224,224,3))\n",
        "print(f\"size {random_image_size_tensor.shape}\")\n",
        "print(f\"ndim {random_image_size_tensor.ndim}\")"
      ],
      "metadata": {
        "colab": {
          "base_uri": "https://localhost:8080/"
        },
        "id": "aIYD-spzGY4M",
        "outputId": "332d4295-3f8b-47f6-b774-f2540fb36450"
      },
      "execution_count": 11,
      "outputs": [
        {
          "output_type": "stream",
          "name": "stdout",
          "text": [
            "size torch.Size([224, 224, 3])\n",
            "ndim 3\n"
          ]
        }
      ]
    },
    {
      "cell_type": "markdown",
      "source": [
        "### Zeros and Ones"
      ],
      "metadata": {
        "id": "zEZTFRA6IkkC"
      }
    },
    {
      "cell_type": "code",
      "source": [
        "# Create a tensor of all zeros\n",
        "zeros = torch.zeros(size =(1,3,3))\n",
        "print(zeros)\n",
        "print(f\"size {zeros.shape}\")\n",
        "print(f\"ndim {zeros.ndim}\")"
      ],
      "metadata": {
        "colab": {
          "base_uri": "https://localhost:8080/"
        },
        "id": "UosXl0vGJIEw",
        "outputId": "6ed6423b-8ffe-4884-8e57-97fd4b8da06c"
      },
      "execution_count": 12,
      "outputs": [
        {
          "output_type": "stream",
          "name": "stdout",
          "text": [
            "tensor([[[0., 0., 0.],\n",
            "         [0., 0., 0.],\n",
            "         [0., 0., 0.]]])\n",
            "size torch.Size([1, 3, 3])\n",
            "ndim 3\n"
          ]
        }
      ]
    },
    {
      "cell_type": "code",
      "source": [
        "ones = torch.ones(size =(2,3,3))\n",
        "print(ones)\n",
        "print(f\"size {ones.shape}\")\n",
        "print(f\"ndim {ones.ndim}\")"
      ],
      "metadata": {
        "colab": {
          "base_uri": "https://localhost:8080/"
        },
        "id": "B_7N2JK8JaH5",
        "outputId": "b277964e-40b3-4c3d-ca4d-926dbabb54d8"
      },
      "execution_count": 13,
      "outputs": [
        {
          "output_type": "stream",
          "name": "stdout",
          "text": [
            "tensor([[[1., 1., 1.],\n",
            "         [1., 1., 1.],\n",
            "         [1., 1., 1.]],\n",
            "\n",
            "        [[1., 1., 1.],\n",
            "         [1., 1., 1.],\n",
            "         [1., 1., 1.]]])\n",
            "size torch.Size([2, 3, 3])\n",
            "ndim 3\n"
          ]
        }
      ]
    },
    {
      "cell_type": "markdown",
      "source": [
        "### Create a range of tensors and tensors-like"
      ],
      "metadata": {
        "id": "SQA8lg40Jhhn"
      }
    },
    {
      "cell_type": "code",
      "source": [
        "# torch arange  - range function is depricated\n",
        "\n",
        "#depricated\n",
        "#one_to_ten = torch.range(1,11)\n",
        "#print(one_to_ten)\n",
        "\n",
        "one_to_ten = torch.arange(1,11)\n",
        "print(one_to_ten)\n",
        "\n",
        "# step\n",
        "one_to_thousand = torch.arange(1,1000, step=80)\n",
        "print(one_to_thousand)\n",
        "\n",
        "# creating tensors like\n",
        "ten_zeros = torch.zeros_like(one_to_ten)\n",
        "print(ten_zeros)"
      ],
      "metadata": {
        "colab": {
          "base_uri": "https://localhost:8080/"
        },
        "id": "RiN6xI0_Jvg7",
        "outputId": "42787b7b-dd56-4ca7-b64a-c8250f742c29"
      },
      "execution_count": 14,
      "outputs": [
        {
          "output_type": "stream",
          "name": "stdout",
          "text": [
            "tensor([ 1,  2,  3,  4,  5,  6,  7,  8,  9, 10])\n",
            "tensor([  1,  81, 161, 241, 321, 401, 481, 561, 641, 721, 801, 881, 961])\n",
            "tensor([0, 0, 0, 0, 0, 0, 0, 0, 0, 0])\n"
          ]
        }
      ]
    },
    {
      "cell_type": "markdown",
      "source": [
        "### Tensor datatypes\n",
        "\n",
        "**Note** : Tensor data is one of the big 3 errors in pytorch and deep learning\n",
        "1. Tensors not right datatype\n",
        "2. Tensors not right shape\n",
        "3. Tensors not on the right device"
      ],
      "metadata": {
        "id": "ZS9ddVT_KEjN"
      }
    },
    {
      "cell_type": "code",
      "source": [
        "#Float 32 tensor - default float data type\n",
        "float32_tensor = torch.tensor([3.0,6.0,9.0],\n",
        "                              dtype=None, # what datatypes https://pytorch.org/docs/stable/tensors.html\n",
        "                              device=None, # What device is the tensor is on\n",
        "                              requires_grad=False) # to track gradients with this tensor or not\n",
        "print(float32_tensor)\n",
        "\n",
        "#Float 32 tensor\n",
        "float32_tensor2 = torch.tensor([3.0,6.0,9.0],\n",
        "                              dtype=None, # what datatypes https://pytorch.org/docs/stable/tensors.html\n",
        "                              device=\"cuda\",\n",
        "                              requires_grad=False)\n",
        "print(float32_tensor2)\n",
        "\n",
        "# converting tensor data types\n",
        "float16_tensor = float32_tensor.type(torch.float16)\n",
        "print(float16_tensor)"
      ],
      "metadata": {
        "colab": {
          "base_uri": "https://localhost:8080/"
        },
        "id": "ItXq-klVLfZy",
        "outputId": "e21c3bca-4f7b-46f1-f1bb-74d6259bf801"
      },
      "execution_count": 15,
      "outputs": [
        {
          "output_type": "stream",
          "name": "stdout",
          "text": [
            "tensor([3., 6., 9.])\n",
            "tensor([3., 6., 9.], device='cuda:0')\n",
            "tensor([3., 6., 9.], dtype=torch.float16)\n"
          ]
        }
      ]
    },
    {
      "cell_type": "code",
      "source": [
        "float32_tensor * float16_tensor"
      ],
      "metadata": {
        "colab": {
          "base_uri": "https://localhost:8080/"
        },
        "id": "DpfZrFUpN29_",
        "outputId": "90ef5ca8-547e-461c-8188-df8cddec7768"
      },
      "execution_count": 16,
      "outputs": [
        {
          "output_type": "execute_result",
          "data": {
            "text/plain": [
              "tensor([ 9., 36., 81.])"
            ]
          },
          "metadata": {},
          "execution_count": 16
        }
      ]
    },
    {
      "cell_type": "code",
      "source": [
        "# Expected all tensors to be on the same device error is thrown\n",
        "# float32_tensor * float32_tensor2\n",
        "\n",
        "#changing the device for a tensor\n",
        "int32_tensor = torch.tensor([3,4,5], dtype=torch.int32)\n",
        "print(f\" int32_tensor converted to {int32_tensor.dtype}\")\n",
        "print(f\" int32_tensor is on device {int32_tensor.device}\")\n",
        "\n",
        "cuda0 = torch.device('cuda:0')\n",
        "int32_tensor = int32_tensor.to(cuda0, dtype=torch.float32)\n",
        "print(f\" int32_tensor converted to {int32_tensor.dtype}\")\n",
        "print(f\" int32_tensor is moved device to {int32_tensor.device}\")\n",
        "\n",
        "# implicit type conversion\n",
        "int32_tensor = torch.tensor([3,5,6], dtype=torch.int32)\n",
        "float32_tensor * int32_tensor"
      ],
      "metadata": {
        "colab": {
          "base_uri": "https://localhost:8080/"
        },
        "id": "hPm3b8T4PXzj",
        "outputId": "15731953-6821-42cb-c8e6-ee5a0f06dff2"
      },
      "execution_count": 17,
      "outputs": [
        {
          "output_type": "stream",
          "name": "stdout",
          "text": [
            " int32_tensor converted to torch.int32\n",
            " int32_tensor is on device cpu\n",
            " int32_tensor converted to torch.float32\n",
            " int32_tensor is moved device to cuda:0\n"
          ]
        },
        {
          "output_type": "execute_result",
          "data": {
            "text/plain": [
              "tensor([ 9., 30., 54.])"
            ]
          },
          "metadata": {},
          "execution_count": 17
        }
      ]
    },
    {
      "cell_type": "markdown",
      "source": [
        "### Getting information from tensor attributes\n",
        "\n",
        "dtype - tensor.dtype, device -tensor.device and shape - tensor.shape"
      ],
      "metadata": {
        "id": "MAtJyQq3Q91b"
      }
    },
    {
      "cell_type": "code",
      "source": [
        "print(f\"type {int32_tensor.dtype}\")\n",
        "print(f\"shape {int32_tensor.shape}\")\n",
        "print(f\"device {int32_tensor.device}\")\n",
        "\n",
        "print(f\"type {float32_tensor2.dtype}\")\n",
        "print(f\"shape {float32_tensor2.shape}\")\n",
        "print(f\"device {float32_tensor2.device}\")"
      ],
      "metadata": {
        "colab": {
          "base_uri": "https://localhost:8080/"
        },
        "id": "Rjjs9XVlPcPF",
        "outputId": "592f7795-a6e7-4740-dca3-3cf224565e31"
      },
      "execution_count": 18,
      "outputs": [
        {
          "output_type": "stream",
          "name": "stdout",
          "text": [
            "type torch.int32\n",
            "shape torch.Size([3])\n",
            "device cpu\n",
            "type torch.float32\n",
            "shape torch.Size([3])\n",
            "device cuda:0\n"
          ]
        }
      ]
    },
    {
      "cell_type": "markdown",
      "source": [
        "### Manipulating Tensors\n",
        "** Addition.   \n",
        "** Substraction.   \n",
        "** Multiplication (element-wise).   \n",
        "** Division.   \n",
        "** Matrix Multiplication.   \n",
        "\n",
        "\n",
        "### Matrix Manipulation\n",
        "There are two ways.   \n",
        "** Element-wise multiplication.       \n",
        "** Matrix multiplication.  (dot product)  "
      ],
      "metadata": {
        "id": "WWhebN-ITeXh"
      }
    },
    {
      "cell_type": "code",
      "source": [
        "tensor = torch.tensor([2,5,8,9])\n",
        "# addition\n",
        "print(tensor + 10)\n",
        "print(torch.add(tensor,10))\n",
        "\n",
        "# multiplication\n",
        "print(tensor * 10)\n",
        "print(torch.mul(tensor,10))\n",
        "# substraction\n",
        "print(tensor - 10)\n",
        "print(torch.sub(tensor,10))\n",
        "# division\n",
        "print(tensor / 10)\n",
        "print(torch.div(tensor,10))\n"
      ],
      "metadata": {
        "colab": {
          "base_uri": "https://localhost:8080/"
        },
        "id": "HptFnPKtQX9t",
        "outputId": "9056eea7-5997-458b-d71b-c309158f18e0"
      },
      "execution_count": 19,
      "outputs": [
        {
          "output_type": "stream",
          "name": "stdout",
          "text": [
            "tensor([12, 15, 18, 19])\n",
            "tensor([12, 15, 18, 19])\n",
            "tensor([20, 50, 80, 90])\n",
            "tensor([20, 50, 80, 90])\n",
            "tensor([-8, -5, -2, -1])\n",
            "tensor([-8, -5, -2, -1])\n",
            "tensor([0.2000, 0.5000, 0.8000, 0.9000])\n",
            "tensor([0.2000, 0.5000, 0.8000, 0.9000])\n"
          ]
        }
      ]
    },
    {
      "cell_type": "markdown",
      "source": [
        "One of the most common operations in machine learning and deep learning algorithms (like neural networks) is matrix multiplication.  \n",
        "  \n",
        "PyTorch implements matrix multiplication functionality in the torch.matmul() method.  \n",
        "  \n",
        "The main two rules for matrix multiplication to remember are:  \n",
        "  \n",
        "The inner dimensions must match:  \n",
        "(3, 2) @ (3, 2) won't work.  \n",
        "(2, 3) @ (3, 2) will work.  \n",
        "(3, 2) @ (2, 3) will work.\n",
        "The resulting matrix has the shape of the outer dimensions:  \n",
        "(2, 3) @ (3, 2) -> (2, 2).\n",
        "(3, 2) @ (2, 3) -> (3, 3).\n",
        "Note: \"@\" in Python is the symbol for matrix multiplication.  \n",
        "\n",
        "Resource: You can see all of the rules for matrix multiplication using torch.matmul() in the PyTorch documentation.  \n",
        "  \n",
        "Let's create a tensor and perform element-wise multiplication and matrix multiplication on it.    "
      ],
      "metadata": {
        "id": "cut_AwheV-Eh"
      }
    },
    {
      "cell_type": "code",
      "source": [
        "tensor1 = torch.tensor([[2,3,4],\n",
        "                        [3,6,9]], dtype=torch.float32)\n",
        "\n",
        "tensor2 = torch. tensor([[2,3],\n",
        "                         [3,6],\n",
        "                         [4, 9]], dtype=torch.float32)\n",
        "\n",
        "# @  operator or matul function can be used\n",
        "tensor3 = torch.matmul(tensor1, tensor2)\n",
        "tensor3 = tensor1 @ tensor2\n",
        "print(tensor3)\n",
        "\n"
      ],
      "metadata": {
        "colab": {
          "base_uri": "https://localhost:8080/"
        },
        "id": "fSo1hKNCUG8q",
        "outputId": "332880be-8f65-4e65-f405-dad737b83116"
      },
      "execution_count": 20,
      "outputs": [
        {
          "output_type": "stream",
          "name": "stdout",
          "text": [
            "tensor([[ 29.,  60.],\n",
            "        [ 60., 126.]])\n"
          ]
        }
      ]
    },
    {
      "cell_type": "code",
      "source": [
        "tensor_A = torch.tensor([[1,2],\n",
        "                         [3,4],\n",
        "                         [5,6]])\n",
        "\n",
        "tensor_B = torch.tensor([[7, 10],\n",
        "                         [8,11],\n",
        "                         [9, 12]])\n",
        "\n",
        "#torch.mm(tensor_A, tensor_B) #torch.mm is same as torch.matmul (its an aleas for the matmul function)\n",
        "\n",
        "# torch.matmul(tensor_A, tensor_B). # throws a shape error\n",
        "\n",
        "print(tensor_B.T)\n",
        "\n",
        "tensor_C = torch.matmul(tensor_A, tensor_B.T)\n",
        "\n",
        "print(tensor_C)\n",
        "\n"
      ],
      "metadata": {
        "id": "E4Saq6F-W-Ju",
        "colab": {
          "base_uri": "https://localhost:8080/"
        },
        "outputId": "eb8924b9-1fea-418e-d8d7-3f05ea3ccb46"
      },
      "execution_count": 22,
      "outputs": [
        {
          "output_type": "stream",
          "name": "stdout",
          "text": [
            "tensor([[ 7,  8,  9],\n",
            "        [10, 11, 12]])\n",
            "tensor([[ 27,  30,  33],\n",
            "        [ 61,  68,  75],\n",
            "        [ 95, 106, 117]])\n"
          ]
        }
      ]
    },
    {
      "cell_type": "markdown",
      "source": [
        "# Finding the min, max, mean, sum etc (tensor aggregations)\n"
      ],
      "metadata": {
        "id": "zuTdUy7Lke-Y"
      }
    },
    {
      "cell_type": "code",
      "source": [
        "x = torch.arange(0,100,10)\n",
        "print(x)\n",
        "print(x.dtype)"
      ],
      "metadata": {
        "colab": {
          "base_uri": "https://localhost:8080/"
        },
        "id": "qqgu0Hl9htPn",
        "outputId": "9745b6ec-9e03-4d49-91f0-b0c1ed61cb90"
      },
      "execution_count": 27,
      "outputs": [
        {
          "output_type": "stream",
          "name": "stdout",
          "text": [
            "tensor([ 0, 10, 20, 30, 40, 50, 60, 70, 80, 90])\n",
            "torch.int64\n"
          ]
        }
      ]
    },
    {
      "cell_type": "code",
      "source": [
        "# Find the min\n",
        "print(torch.min(x))\n",
        "print(x.min())\n",
        "\n",
        "# Find the max\n",
        "print(torch.max(x))\n",
        "print(x.max())\n",
        "\n",
        "# Find the mean\n",
        "print(torch.mean(x.type(torch.float32)))  # torch.mean() function requires the float32 datatype\n",
        "print(x.type(torch.float32).mean())\n",
        "\n",
        "# Find the sum\n",
        "print(torch.sum(x))\n",
        "print(x.sum())\n",
        "\n",
        "# Find positional min and max - index of min and max values\n",
        "print(torch.argmin(x))\n",
        "print(x.argmin())\n",
        "\n",
        "print(torch.argmax(x))\n",
        "print(x.argmax())"
      ],
      "metadata": {
        "colab": {
          "base_uri": "https://localhost:8080/"
        },
        "id": "80qa6KmhktzS",
        "outputId": "2664220d-20c8-42a6-f8b9-3910ce4c0810"
      },
      "execution_count": 34,
      "outputs": [
        {
          "output_type": "stream",
          "name": "stdout",
          "text": [
            "tensor(0)\n",
            "tensor(0)\n",
            "tensor(90)\n",
            "tensor(90)\n",
            "tensor(45.)\n",
            "tensor(45.)\n",
            "tensor(450)\n",
            "tensor(450)\n",
            "tensor(0)\n",
            "tensor(0)\n",
            "tensor(9)\n",
            "tensor(9)\n"
          ]
        }
      ]
    },
    {
      "cell_type": "code",
      "source": [],
      "metadata": {
        "id": "bUpbUb-Jk4Td"
      },
      "execution_count": null,
      "outputs": []
    }
  ]
}